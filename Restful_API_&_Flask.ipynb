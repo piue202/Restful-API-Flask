{
  "nbformat": 4,
  "nbformat_minor": 0,
  "metadata": {
    "colab": {
      "provenance": []
    },
    "kernelspec": {
      "name": "python3",
      "display_name": "Python 3"
    },
    "language_info": {
      "name": "python"
    }
  },
  "cells": [
    {
      "cell_type": "markdown",
      "source": [
        "# Assignment Questions\n"
      ],
      "metadata": {
        "id": "kYSk1fLwrI6f"
      }
    },
    {
      "cell_type": "markdown",
      "source": [
        "# What is a RESTful API?\n",
        "  - A RESTful API (Representational State of Resource) is an architectural style for designing networked applications. It's based on the idea of resources, which are identified by URIs, and can be manipulated using a fixed set of operations."
      ],
      "metadata": {
        "id": "3u40pWPUrRaF"
      }
    },
    {
      "cell_type": "markdown",
      "source": [
        "# M Explain the concept of API specification.\n",
        "  - An API specification is a document that defines the interface to a software system, outlining the rules and protocols for interacting with it.\n",
        "\n",
        "Key Components\n",
        "1. Endpoints: API endpoints define the URLs and HTTP methods for accessing specific resources.\n",
        "2. Request and Response Formats: The specification defines the format of requests and responses, including data types and structures.\n",
        "3. Error Handling: The specification outlines error handling mechanisms, including error codes and messages.\n",
        "4. Security: The specification may include security requirements, such as authentication and authorization.\n",
        "\n",
        "Benefits\n",
        "1. Clear Documentation: An API specification provides clear documentation for developers, making it easier to understand and use the API.\n",
        "2. Consistency: A well-defined API specification ensures consistency across the API, making it easier to maintain and extend.\n",
        "3. Interoperability: An API specification enables interoperability between different systems and platforms."
      ],
      "metadata": {
        "id": "1pcWD5dnrcK0"
      }
    },
    {
      "cell_type": "markdown",
      "source": [
        "# What is Flask, and why is it popular for building APIs?\n",
        " - Flask is a lightweight, flexible, and modular web framework for Python.\n",
        "\n",
        "Key Features\n",
        "1. Microframework: Flask is a microframework, meaning it's lightweight and doesn't require a lot of overhead.\n",
        "2. Modular: Flask is highly modular, making it easy to extend and customize.\n",
        "3. Flexible: Flask supports a wide range of databases, caching, and authentication mechanisms.\n",
        "\n",
        "Popularity for Building APIs\n",
        "1. Ease of use: Flask has a simple and intuitive API, making it easy to build and deploy web applications and APIs.\n",
        "2. Lightweight: Flask's lightweight nature makes it ideal for building small to medium-sized applications and APIs.\n",
        "3. Extensive libraries: Flask has an extensive collection of libraries and extensions that make it easy to add functionality to applications.\n",
        "\n",
        "Use Cases\n",
        "1. Web APIs: Flask is well-suited for building web APIs, including RESTful APIs.\n",
        "2. Prototyping: Flask's lightweight nature and ease of use make it an excellent choice for prototyping web applications and APIs.\n",
        "3. Small to medium-sized applications: Flask is suitable for building small to medium-sized web applications and APIs."
      ],
      "metadata": {
        "id": "N-gOBVe5rs13"
      }
    },
    {
      "cell_type": "markdown",
      "source": [
        "# What is routing in Flask?\n",
        " - n Flask, routing refers to the process of mapping URLs to specific application endpoints.\n",
        "\n",
        "Key Concepts\n",
        "1. Route Decorators: Flask uses decorators (@app.route()) to associate URLs with specific functions.\n",
        "2. URL Rules: URL rules define the mapping between URLs and application endpoints.\n",
        "3. HTTP Methods: Flask supports various HTTP methods (e.g., GET, POST, PUT, DELETE) for handling different types of requests.\n",
        "\n",
        "Example\n",
        "\n",
        "from flask import Flask\n",
        "\n",
        "app = Flask(__name__)\n",
        "\n",
        "@app.route('/hello', methods=['GET'])\n",
        "def hello_world():\n",
        "    return 'Hello, World!'\n",
        "\n",
        "if __name__ == '__main__':\n",
        "    app.run()"
      ],
      "metadata": {
        "id": "RFiN6wk8rzub"
      }
    },
    {
      "cell_type": "markdown",
      "source": [
        "# How do you create a simple Flask application?\n",
        "  - Here's a step-by-step guide to creating a simple Flask application:\n",
        "\n",
        "Step 1: Install Flask\n",
        "\n",
        "bash\n",
        "pip install flask\n",
        "\n",
        "\n",
        "Step 2: Create a New Flask App\n",
        "\n",
        "from flask import Flask\n",
        "\n",
        "app = Flask(__name__)\n",
        "\n",
        "\n",
        "Step 3: Define a Route\n",
        "\n",
        "@app.route('/')\n",
        "def home():\n",
        "    return 'Hello, World!'\n",
        "\n",
        "\n",
        "Step 4: Run the App\n",
        "\n",
        "if __name__ == '__main__':\n",
        "    app.run()\n",
        "\n",
        "\n",
        "Full Code\n",
        "\n",
        "from flask import Flask\n",
        "\n",
        "app = Flask(__name__)\n",
        "\n",
        "@app.route('/')\n",
        "def home():\n",
        "    return 'Hello, World!'\n",
        "\n",
        "if __name__ == '__main__':\n",
        "    app.run()\n",
        "\n"
      ],
      "metadata": {
        "id": "GeaB_YAqsFbV"
      }
    },
    {
      "cell_type": "markdown",
      "source": [
        "# What are HTTP methods used in RESTful APIs?\n",
        "  - n RESTful APIs, the following HTTP methods are commonly used:\n",
        "\n",
        "HTTP Methods\n",
        "1. GET: Retrieve a resource\n",
        "2. POST: Create a new resource\n",
        "3. PUT: Update an existing resource\n",
        "4. DELETE: Delete a resource\n",
        "\n",
        "Use Cases\n",
        "1. GET: Fetching data, such as retrieving a user's profile information.\n",
        "2. POST: Creating new data, such as registering a new user.\n",
        "3. PUT: Updating existing data, such as editing a user's profile information.\n",
        "4. DELETE: Deleting data, such as removing a user account.\n"
      ],
      "metadata": {
        "id": "TJLoEldXsSv0"
      }
    },
    {
      "cell_type": "markdown",
      "source": [
        "# What is the purpose of the @app.route() decorator in Flask?\n",
        "  - The @app.route() decorator in Flask is used to:\n",
        "\n",
        "Associate URLs with Application Endpoints\n",
        "1. Map URLs to functions: The decorator maps a specific URL to a function in the application.\n",
        "2. Define HTTP methods: The decorator can specify the HTTP methods (e.g., GET, POST, PUT, DELETE) that the function will handle.\n",
        "\n"
      ],
      "metadata": {
        "id": "cRUYFRRdsaQf"
      }
    },
    {
      "cell_type": "markdown",
      "source": [
        "# What is the difference between GET and POST HTTP methods?\n",
        "  - The main differences between GET and POST HTTP methods are:\n",
        "\n",
        "GET\n",
        "1. Retrieve data: GET is used to retrieve data from a server.\n",
        "2. Data in URL: GET requests send data in the URL as query parameters.\n",
        "3. Cached: GET requests can be cached by browsers and proxies.\n",
        "4. Idempotent: GET requests are idempotent, meaning multiple requests have the same effect as a single request.\n",
        "\n",
        "POST\n",
        "1. Send data: POST is used to send data to a server to create or update a resource.\n",
        "2. Data in body: POST requests send data in the request body.\n",
        "3. Not cached: POST requests are not cached by browsers and proxies.\n",
        "4. Non-idempotent: POST requests are non-idempotent, meaning multiple requests can have different effects.\n",
        "\n",
        "Use cases\n",
        "1. GET: Retrieving data, such as fetching a user's profile information.\n",
        "2. POST: Creating new data, such as registering a new user or submitting a form.\n"
      ],
      "metadata": {
        "id": "l-DvFn_Msjde"
      }
    },
    {
      "cell_type": "markdown",
      "source": [
        "# How do you handle errors in Flask APIs?\n",
        "  - Error handling in Flask APIs can be achieved through:\n",
        "\n",
        "Error Handling Mechanisms\n",
        "1. Try-Except Blocks: Use try-except blocks to catch and handle exceptions in your API endpoints.\n",
        "2. Error Handlers: Flask provides error handlers that can be used to handle specific error types.\n",
        "3. Custom Error Responses: Create custom error responses to provide more informative error messages."
      ],
      "metadata": {
        "id": "fjaspIFDsq5q"
      }
    },
    {
      "cell_type": "markdown",
      "source": [
        "# How do you connect Flask to a SQL database?\n",
        "  - Step 1: Choose a Database Library\n",
        "1. Flask-SQLAlchemy: A popular ORM (Object-Relational Mapping) library for Flask.\n",
        "2. Flask-MySQLdb: A library for connecting to MySQL databases.\n",
        "3. psycopg2: A library for connecting to PostgreSQL databases.\n",
        "\n",
        "Step 2: Install the Library\n",
        "\n",
        "bash\n",
        "pip install flask-sqlalchemy\n",
        "\n",
        "\n",
        "Step 3: Configure Flask-SQLAlchemy\n",
        "\n",
        "from flask import Flask\n",
        "from flask_sqlalchemy import SQLAlchemy\n",
        "\n",
        "app = Flask(__name__)\n",
        "app.config['SQLALCHEMY_DATABASE_URI'] = 'sqlite:///example.db'\n",
        "db = SQLAlchemy(app)\n",
        "\n"
      ],
      "metadata": {
        "id": "bum93-Fbsw_x"
      }
    },
    {
      "cell_type": "markdown",
      "source": [
        "# What is the role of Flask-SQLAlchemy?\n",
        "  - Flask-SQLAlchemy is an extension for Flask that provides:\n",
        "\n",
        "Key Features\n",
        "1. Object-Relational Mapping (ORM): Maps Python objects to database tables.\n",
        "2. Database Abstraction: Provides a high-level interface for interacting with various databases.\n",
        "3. Querying: Supports complex querying capabilities.\n",
        "\n",
        "Role\n",
        "1. Simplifies database interactions: Flask-SQLAlchemy simplifies the process of interacting with databases.\n",
        "2. Improves productivity: By providing a high-level interface, Flask-SQLAlchemy improves developer productivity.\n",
        "3. Supports multiple databases: Flask-SQLAlchemy supports various databases, including MySQL, PostgreSQL, and SQLite.\n",
        "\n",
        "Benefits\n",
        "1. Easy to use: Flask-SQLAlchemy is easy to use and provides a simple interface for database operations.\n",
        "2. Flexible: Supports various database engines and provides flexibility in database design.\n",
        "3. Powerful querying: Provides powerful querying capabilities, making it suitable for complex database operations.\n"
      ],
      "metadata": {
        "id": "Rb12fxRNs3-D"
      }
    },
    {
      "cell_type": "markdown",
      "source": [
        "# What are Flask blueprints, and how are they useful?\n",
        "  - Flask blueprints are a way to organize and structure Flask applications into smaller, reusable components.\n",
        "\n",
        "Key Features\n",
        "1. Modularization: Blueprints allow you to break down a large application into smaller, independent modules.\n",
        "2. Reusability: Blueprints can be reused across multiple applications.\n",
        "3. Flexibility: Blueprints provide flexibility in organizing and structuring applications.\n",
        "\n",
        "Usefulness\n",
        "1. Easier maintenance: Blueprints make it easier to maintain and update large applications.\n",
        "2. Improved organization: Blueprints provide a clear structure for organizing application code.\n",
        "3. Reusable components: Blueprints enable the creation of reusable components that can be shared across applications.\n"
      ],
      "metadata": {
        "id": "7CKHTHlntBcJ"
      }
    },
    {
      "cell_type": "markdown",
      "source": [
        "# What is the purpose of Flask's request object?\n",
        "  - The request object in Flask provides access to the HTTP request data sent by the client.\n",
        "\n",
        "Key Features\n",
        "1. Access to request data: The request object allows you to access various parts of the HTTP request, such as:\n",
        "    - Method: The HTTP method used (e.g., GET, POST, PUT, DELETE).\n",
        "    - URL: The URL of the request.\n",
        "    - Headers: The HTTP headers sent with the request.\n",
        "    - Form data: The data sent in the request body (e.g., form submissions).\n",
        "    - Query parameters: The parameters passed in the URL query string.\n",
        "2. Flexibility: The request object provides flexibility in handling different types of requests.\n",
        "\n",
        "Use Cases\n",
        "1. Handling form submissions: Use the request object to access form data sent in the request body.\n",
        "2. Processing query parameters: Use the request object to access query parameters passed in the URL.\n",
        "3. Checking request headers: Use the request object to access and validate HTTP headers.\n"
      ],
      "metadata": {
        "id": "uM5BW15ttH2U"
      }
    },
    {
      "cell_type": "markdown",
      "source": [
        "# How do you create a RESTful API endpoint using Flask?\n",
        "  - o create a RESTful API endpoint using Flask, follow these steps:\n",
        "\n",
        "Step 1: Define the Endpoint\n",
        "\n",
        "from flask import Flask, jsonify, request\n",
        "\n",
        "app = Flask(__name__)\n",
        "\n",
        "@app.route('/users', methods=['GET'])\n",
        "def get_users():\n",
        "    # Code to retrieve users\n",
        "    users = [{'id': 1, 'name': 'John Doe'}, {'id': 2, 'name': 'Jane Doe'}]\n",
        "    return jsonify(users)\n",
        "\n",
        "\n",
        "Step 2: Handle Different HTTP Methods\n",
        "\n",
        "@app.route('/users', methods=['POST'])\n",
        "def create_user():\n",
        "    # Code to create a new user\n",
        "    new_user = {'id': 3, 'name': request.json['name']}\n",
        "    return jsonify(new_user), 201\n",
        "\n",
        "\n",
        "Step 3: Handle Resource-Specific Endpoints\n",
        "\n",
        "@app.route('/users/<int:user_id>', methods=['GET'])\n",
        "def get_user(user_id):\n",
        "    # Code to retrieve a user by ID\n",
        "    user = {'id': user_id, 'name': 'John Doe'}\n",
        "    return jsonify(user)\n",
        "\n",
        "\n",
        "Step 4: Handle Errors and Edge Cases\n",
        "\n",
        "@app.errorhandler(404)\n",
        "def not_found(error):\n",
        "    return jsonify({'error': 'Not found'}), 404"
      ],
      "metadata": {
        "id": "rYm18-5EtSXs"
      }
    },
    {
      "cell_type": "markdown",
      "source": [
        "# What is the purpose of Flask's jsonify() function?\n",
        "  -Flask's jsonify() function is used to:\n",
        "\n",
        "Generate JSON Responses\n",
        "1. Convert Python objects to JSON: jsonify() converts Python objects (e.g., dictionaries, lists) to JSON format.\n",
        "2. Set correct MIME type: jsonify() sets the Content-Type header to application/json, indicating that the response body contains JSON data.\n",
        "\n",
        "Benefits\n",
        "1. Easy JSON response creation: jsonify() simplifies the process of creating JSON responses.\n",
        "2. Correct MIME type: Ensures that the response is properly formatted and identified as JSON."
      ],
      "metadata": {
        "id": "hxWAPC51tc0G"
      }
    },
    {
      "cell_type": "markdown",
      "source": [
        "# Explain Flask’s url_for() function.\n",
        "  - Flask's url_for() function is used to:\n",
        "\n",
        "Generate URLs\n",
        "1. Create URLs for routes: url_for() generates URLs for routes based on the endpoint name and any required parameters.\n",
        "2. Dynamic URL generation: Allows for dynamic generation of URLs, making it easier to maintain and update application routing.\n",
        "\n",
        "Benefits\n",
        "1. Avoid hardcoding URLs: url_for() eliminates the need to hardcode URLs in templates and code.\n",
        "2. Flexibility: Supports URL generation for routes with parameters.\n"
      ],
      "metadata": {
        "id": "tWoQ0Snrtlhl"
      }
    },
    {
      "cell_type": "markdown",
      "source": [
        "# How does Flask handle static files (CSS, JavaScript, etc.)?\n",
        "  - Flask handles static files by:\n",
        "\n",
        "Serving Static Files\n",
        "1. Static folder: Flask looks for a folder named static in the root directory of the application.\n",
        "2. url_for() function: Use the url_for() function to generate URLs for static files.\n"
      ],
      "metadata": {
        "id": "eoLREq35tyk8"
      }
    },
    {
      "cell_type": "markdown",
      "source": [
        "# What is an API specification, and how does it help in building a Flask API?\n",
        "  - An API specification is a document that defines the interface to an API, outlining the rules and protocols for interacting with it.\n",
        "\n",
        "Key Components\n",
        "1. Endpoints: Define the URLs and HTTP methods for accessing specific resources.\n",
        "2. Request and Response Formats: Specify the format of requests and responses, including data types and structures.\n",
        "3. Error Handling: Outline error handling mechanisms, including error codes and messages.\n",
        "\n",
        "Benefits in Building a Flask API\n",
        "1. Clear Documentation: Provides clear documentation for developers, making it easier to understand and use the API.\n",
        "2. Consistency: Ensures consistency across the API, making it easier to maintain and extend.\n",
        "3. Interoperability: Enables interoperability between different systems and platforms.\n",
        "\n",
        "Tools for API Specification\n",
        "1. OpenAPI (Swagger): A popular format for API specifications, widely used in the industry.\n",
        "2. API Blueprint: Another format for API specifications, known for its simplicity and readability."
      ],
      "metadata": {
        "id": "zTQvYZK-t_L0"
      }
    },
    {
      "cell_type": "markdown",
      "source": [
        "# What are HTTP status codes, and why are they important in a Flask API?\n",
        "  - HTTP status codes are three-digit numbers that indicate the result of an HTTP request.\n",
        "\n",
        "Types of HTTP Status Codes\n",
        "1. Informational (1xx): Indicate that the request was received and is being processed.\n",
        "2. Success (2xx): Indicate that the request was successful.\n",
        "3. Redirection (3xx): Indicate that the client needs to take additional action.\n",
        "4. Client Error (4xx): Indicate that the client made an error.\n",
        "5. Server Error (5xx): Indicate that the server encountered an error.\n",
        "\n",
        "Importance in a Flask API\n",
        "1. Indicate Request Outcome: HTTP status codes provide a standard way to indicate the outcome of an HTTP request.\n",
        "2. Error Handling: HTTP status codes help handle errors and exceptions in a Flask API.\n",
        "3. API Documentation: HTTP status codes are an essential part of API documentation, helping developers understand the expected behavior of the API.\n",
        "\n",
        "Common HTTP Status Codes\n",
        "1. 200 OK: Indicates that the request was successful.\n",
        "2. 404 Not Found: Indicates that the requested resource was not found.\n",
        "3. 500 Internal Server Error: Indicates that the server encountered an unexpected error.\n",
        "\n",
        "Using HTTP Status Codes in Flask\n",
        "1. Return Status Codes: Use the return statement to return HTTP status codes in Flask views.\n",
        "2. Use Flask's Built-in Status Codes: Flask provides built-in status codes that can be used to return HTTP status codes."
      ],
      "metadata": {
        "id": "qrSwhJ5TuJB7"
      }
    },
    {
      "cell_type": "markdown",
      "source": [
        "# How do you handle POST requests in Flask?\n",
        "  - To handle POST requests in Flask:\n",
        "\n",
        "Step 1: Define a Route\n",
        "\n",
        "from flask import Flask, request\n",
        "\n",
        "app = Flask(__name__)\n",
        "\n",
        "@app.route('/submit', methods=['POST'])\n",
        "def handle_submit():\n",
        "    # Code to handle the POST request\n",
        "    pass\n",
        "\n",
        "\n",
        "Step 2: Access Request Data\n",
        "\n",
        "data = request.get_json()  # For JSON data\n",
        "data = request.form  # For form data\n",
        "\n",
        "\n",
        "Step 3: Process the Data\n",
        "\n",
        "# Process the data as needed\n",
        "processed_data = {'message': 'Data received successfully'}\n",
        "\n",
        "\n",
        "Step 4: Return a Response\n",
        "\n",
        "return jsonify(processed_data), 201\n"
      ],
      "metadata": {
        "id": "EM1qmumYuRv8"
      }
    },
    {
      "cell_type": "markdown",
      "source": [
        "# How would you secure a Flask API?\n",
        "  - Securing a Flask API involves several measures to protect it from unauthorized access and potential threats.\n",
        "\n",
        "Authentication and Authorization\n",
        "1. Use authentication mechanisms: Implement authentication mechanisms, such as JSON Web Tokens (JWT) or OAuth, to verify the identity of users.\n",
        "2. Implement role-based access control: Use role-based access control to restrict access to certain resources based on user roles.\n",
        "\n",
        "Data Encryption\n",
        "1. Use HTTPS: Use HTTPS to encrypt data transmitted between the client and server.\n",
        "2. Encrypt sensitive data: Encrypt sensitive data, such as passwords and API keys, to protect them from unauthorized access.\n",
        "\n",
        "Input Validation and Sanitization\n",
        "1. Validate user input: Validate user input to prevent SQL injection and cross-site scripting (XSS) attacks.\n",
        "2. Sanitize user input: Sanitize user input to remove any malicious characters or code.\n",
        "\n",
        "Rate Limiting\n",
        "1. Implement rate limiting: Implement rate limiting to prevent brute-force attacks and denial-of-service (DoS) attacks.\n",
        "\n",
        "Security Best Practices\n",
        "1. Keep dependencies up-to-date: Keep dependencies, such as Flask and libraries, up-to-date to ensure you have the latest security patches.\n",
        "2. Use secure passwords: Use secure passwords and password hashing mechanisms to protect user accounts.\n",
        "3. Monitor API activity: Monitor API activity to detect and respond to potential security threats."
      ],
      "metadata": {
        "id": "rwBr7jiJuZQB"
      }
    },
    {
      "cell_type": "markdown",
      "source": [
        "# What is the significance of the Flask-RESTful extension?\n",
        "  - Flask-RESTful is a Flask extension that simplifies building RESTful APIs.\n",
        "\n",
        "Key Features\n",
        "1. Resource-based routing: Flask-RESTful provides a resource-based routing system, making it easy to define API endpoints.\n",
        "2. Request and response handling: Flask-RESTful provides built-in support for handling requests and responses, including parsing request data and generating responses.\n",
        "3. Error handling: Flask-RESTful provides built-in error handling mechanisms, making it easy to handle errors and exceptions in API endpoints.\n",
        "\n",
        "Benefits\n",
        "1. Simplified API development: Flask-RESTful simplifies the process of building RESTful APIs, making it easier to define API endpoints and handle requests and responses.\n",
        "2. Consistent API structure: Flask-RESTful promotes a consistent API structure, making it easier to maintain and extend APIs.\n",
        "3. Improved code organization: Flask-RESTful encourages improved code organization, making it easier to manage complex API logic.\n"
      ],
      "metadata": {
        "id": "CdN36dxDuiLX"
      }
    },
    {
      "cell_type": "markdown",
      "source": [
        "# What is the role of Flask’s session object?\n",
        "  - Flask's session object allows you to store data across multiple requests from the same client.\n",
        "\n",
        "Key Features\n",
        "1. Client-side storage: Session data is stored on the client-side, typically in a cookie.\n",
        "2. Server-side validation: The session object is validated on the server-side to prevent tampering.\n",
        "3. Data persistence: Session data persists across multiple requests from the same client.\n",
        "\n",
        "Use Cases\n",
        "1. User authentication: Store user authentication data, such as user IDs or login status.\n",
        "2. Temporary data storage: Store temporary data that needs to be accessed across multiple requests.\n",
        "3. Shopping cart management: Store shopping cart contents or other temporary data.\n"
      ],
      "metadata": {
        "id": "DcXiTSpDu0r2"
      }
    },
    {
      "cell_type": "markdown",
      "source": [
        "# Practical"
      ],
      "metadata": {
        "id": "FTmPKMoAvFNA"
      }
    },
    {
      "cell_type": "code",
      "source": [
        "#  How do you capture URL parameters in Flask?\n",
        "from flask import Flask\n",
        "\n",
        "app = Flask(__name__)\n",
        "\n",
        "@app.route('/user/<username>')  # Captures the 'username' part\n",
        "def show_user_profile(username):\n",
        "    return 'User %s' % username"
      ],
      "metadata": {
        "id": "_DFaT4kBxf5L"
      },
      "execution_count": null,
      "outputs": []
    },
    {
      "cell_type": "code",
      "source": [
        "# How do you return JSON responses in Flask?\n",
        "from flask import Flask, jsonify # Import jsonify\n",
        "\n",
        "app = Flask(__name__) # Define the Flask app instance 'app'\n",
        "\n",
        "@app.route('/data') # Now properly indented within the 'app' context\n",
        "def get_data():\n",
        "    data = {\n",
        "        'name': 'John Doe',\n",
        "        'age': 30,\n",
        "        'city': 'New York'\n",
        "    }\n",
        "    return jsonify(data)"
      ],
      "metadata": {
        "id": "nSpfdDwkxwMV"
      },
      "execution_count": null,
      "outputs": []
    },
    {
      "cell_type": "code",
      "source": [
        "# How do you define a custom Jinja filter in Flask?\n",
        " from flask import Flask\n",
        "\n",
        "app = Flask(__name__)\n",
        "\n",
        "@app.template_filter('reverse_string')\n",
        "def reverse_string(s):\n",
        "    return s[::-1]\n",
        "\n",
        "# In a template:\n",
        "# {{ 'hello' | reverse_string }}\n"
      ],
      "metadata": {
        "id": "T3xUjxklzCcJ"
      },
      "execution_count": null,
      "outputs": []
    },
    {
      "cell_type": "code",
      "source": [
        "#  How do you handle errors in Flask (e.g., 404)?\n",
        "\n",
        "To handle errors in Flask:\n",
        "\n",
        "Using Error Handlers\n",
        "1. Define error handlers: Use the @app.errorhandler() decorator to define error handlers for specific error codes.\n",
        "2. Handle error: In the error handler function, return a response or render a template.\n",
        "\n",
        "Example\n",
        "\n",
        "from flask import Flask, render_template\n",
        "\n",
        "app = Flask(__name__)\n",
        "\n",
        "@app.errorhandler(404)\n",
        "def page_not_found(e):\n",
        "    return render_template('404.html'), 404\n",
        "\n",
        "@app.errorhandler(500)\n",
        "def internal_server_error(e):\n",
        "    return render_template('500.html'), 500\n"
      ],
      "metadata": {
        "id": "j-Jxc-AN8YnH"
      },
      "execution_count": null,
      "outputs": []
    },
    {
      "cell_type": "code",
      "source": [
        "# How do you redirect to a different route in Flask?\n",
        "\n",
        "To redirect to a different route in Flask:\n",
        "\n",
        "Using redirect() and url_for()\n",
        "1. Use url_for(): Generate the URL for the target route using url_for().\n",
        "2. Use redirect(): Redirect to the generated URL using redirect().\n",
        "\n",
        "Example\n",
        "\n",
        "from flask import Flask, redirect, url_for\n",
        "\n",
        "app = Flask(__name__)\n",
        "\n",
        "@app.route('/old-route')\n",
        "def old_route():\n",
        "    return redirect(url_for('new_route'))\n",
        "\n",
        "@app.route('/new-route')\n",
        "def new_route():\n",
        "    return 'You have been redirected to the new route.'\n"
      ],
      "metadata": {
        "id": "MoxbTdGD8pnf"
      },
      "execution_count": null,
      "outputs": []
    },
    {
      "cell_type": "code",
      "source": [
        "# How do you manage sessions in Flask?\n",
        "\n",
        "To manage sessions in Flask:\n",
        "\n",
        "Using Flask-Session\n",
        "1. Install Flask-Session: Install the Flask-Session extension using pip.\n",
        "2. Configure session: Configure the session settings, such as the secret key and session type.\n",
        "\n",
        "Example\n",
        "\n",
        "from flask import Flask, session\n",
        "from flask_session import Session\n",
        "\n",
        "app = Flask(__name__)\n",
        "app.config['SECRET_KEY'] = 'your_secret_key'\n",
        "app.config['SESSION_PERMANENT'] = False\n",
        "app.config['SESSION_TYPE'] = 'filesystem'\n",
        "Session(app)\n",
        "\n",
        "@app.route('/login')\n",
        "def login():\n",
        "    session['username'] = 'john_doe'\n",
        "    return 'Logged in successfully'\n",
        "\n",
        "@app.route('/protected')\n",
        "def protected():\n",
        "    if 'username' in session:\n",
        "        return 'Welcome, %s!' % session['username']\n",
        "    else:\n",
        "        return 'You are not logged in', 401\n",
        "\n",
        "@app.route('/logout')\n",
        "def logout():\n",
        "    session.pop('username', None)\n",
        "    return 'Logged out successfully'"
      ],
      "metadata": {
        "id": "lO73yxc385Xy"
      },
      "execution_count": null,
      "outputs": []
    },
    {
      "cell_type": "code",
      "source": [],
      "metadata": {
        "id": "Hn41Khux9ROd"
      },
      "execution_count": null,
      "outputs": []
    }
  ]
}